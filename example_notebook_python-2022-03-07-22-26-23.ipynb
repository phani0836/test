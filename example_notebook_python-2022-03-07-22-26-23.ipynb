{
 "cells": [
  {
   "cell_type": "code",
   "execution_count": 1,
   "id": "elementary-trade",
   "metadata": {
    "execution": {
     "iopub.execute_input": "2022-03-07T22:30:29.300682Z",
     "iopub.status.busy": "2022-03-07T22:30:29.300388Z",
     "iopub.status.idle": "2022-03-07T22:30:29.307587Z",
     "shell.execute_reply": "2022-03-07T22:30:29.306957Z"
    },
    "papermill": {
     "duration": 0.01512,
     "end_time": "2022-03-07T22:30:29.309286",
     "exception": false,
     "start_time": "2022-03-07T22:30:29.294166",
     "status": "completed"
    },
    "tags": []
   },
   "outputs": [],
   "source": [
    "import sys\n",
    "import uuid\n",
    "import time"
   ]
  },
  {
   "cell_type": "code",
   "execution_count": 2,
   "id": "stable-simulation",
   "metadata": {
    "execution": {
     "iopub.execute_input": "2022-03-07T22:30:29.318692Z",
     "iopub.status.busy": "2022-03-07T22:30:29.318368Z",
     "iopub.status.idle": "2022-03-07T22:30:29.321306Z",
     "shell.execute_reply": "2022-03-07T22:30:29.320682Z"
    },
    "papermill": {
     "duration": 0.00911,
     "end_time": "2022-03-07T22:30:29.322801",
     "exception": false,
     "start_time": "2022-03-07T22:30:29.313691",
     "status": "completed"
    },
    "tags": [
     "parameters"
    ]
   },
   "outputs": [],
   "source": [
    "execution_date='20220131'"
   ]
  },
  {
   "cell_type": "code",
   "execution_count": 3,
   "id": "ac22ea63",
   "metadata": {
    "execution": {
     "iopub.execute_input": "2022-03-07T22:30:29.331632Z",
     "iopub.status.busy": "2022-03-07T22:30:29.331297Z",
     "iopub.status.idle": "2022-03-07T22:30:29.334108Z",
     "shell.execute_reply": "2022-03-07T22:30:29.333499Z"
    },
    "papermill": {
     "duration": 0.008865,
     "end_time": "2022-03-07T22:30:29.335534",
     "exception": false,
     "start_time": "2022-03-07T22:30:29.326669",
     "status": "completed"
    },
    "tags": [
     "injected-parameters"
    ]
   },
   "outputs": [],
   "source": [
    "# Parameters\n",
    "execution_date = 20220307\n"
   ]
  },
  {
   "cell_type": "code",
   "execution_count": 4,
   "id": "empty-referral",
   "metadata": {
    "execution": {
     "iopub.execute_input": "2022-03-07T22:30:29.344854Z",
     "iopub.status.busy": "2022-03-07T22:30:29.344299Z",
     "iopub.status.idle": "2022-03-07T22:30:29.348697Z",
     "shell.execute_reply": "2022-03-07T22:30:29.348038Z"
    },
    "papermill": {
     "duration": 0.010644,
     "end_time": "2022-03-07T22:30:29.350188",
     "exception": false,
     "start_time": "2022-03-07T22:30:29.339544",
     "status": "completed"
    },
    "tags": []
   },
   "outputs": [
    {
     "name": "stdout",
     "output_type": "stream",
     "text": [
      "the current date is -  20220307\n"
     ]
    }
   ],
   "source": [
    "print(\"the current date is - \", execution_date)"
   ]
  },
  {
   "cell_type": "code",
   "execution_count": null,
   "id": "extensive-short",
   "metadata": {
    "papermill": {
     "duration": 0.004424,
     "end_time": "2022-03-07T22:30:29.358997",
     "exception": false,
     "start_time": "2022-03-07T22:30:29.354573",
     "status": "completed"
    },
    "tags": []
   },
   "outputs": [],
   "source": []
  }
 ],
 "metadata": {
  "celltoolbar": "Tags",
  "kernelspec": {
   "display_name": "conda_python3",
   "language": "python",
   "name": "conda_python3"
  },
  "language_info": {
   "codemirror_mode": {
    "name": "ipython",
    "version": 3
   },
   "file_extension": ".py",
   "mimetype": "text/x-python",
   "name": "python",
   "nbconvert_exporter": "python",
   "pygments_lexer": "ipython3",
   "version": "3.7.12"
  },
  "papermill": {
   "default_parameters": {},
   "duration": 1.367381,
   "end_time": "2022-03-07T22:30:29.479179",
   "environment_variables": {},
   "exception": null,
   "input_path": "example_notebook_python.ipynb",
   "output_path": "/opt/ml/processing/output/example_notebook_python-2022-03-07-22-26-23.ipynb",
   "parameters": {
    "execution_date": 20220307
   },
   "start_time": "2022-03-07T22:30:28.111798",
   "version": "2.3.4"
  }
 },
 "nbformat": 4,
 "nbformat_minor": 5
}