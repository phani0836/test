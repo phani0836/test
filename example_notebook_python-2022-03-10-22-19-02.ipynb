{
 "cells": [
  {
   "cell_type": "code",
   "execution_count": 1,
   "id": "elementary-trade",
   "metadata": {
    "execution": {
     "iopub.execute_input": "2022-03-10T22:23:10.578927Z",
     "iopub.status.busy": "2022-03-10T22:23:10.578348Z",
     "iopub.status.idle": "2022-03-10T22:23:10.585996Z",
     "shell.execute_reply": "2022-03-10T22:23:10.585332Z"
    },
    "papermill": {
     "duration": 0.0152,
     "end_time": "2022-03-10T22:23:10.587574",
     "exception": false,
     "start_time": "2022-03-10T22:23:10.572374",
     "status": "completed"
    },
    "tags": []
   },
   "outputs": [],
   "source": [
    "import sys\n",
    "import uuid\n",
    "import time"
   ]
  },
  {
   "cell_type": "code",
   "execution_count": 2,
   "id": "stable-simulation",
   "metadata": {
    "execution": {
     "iopub.execute_input": "2022-03-10T22:23:10.596614Z",
     "iopub.status.busy": "2022-03-10T22:23:10.596293Z",
     "iopub.status.idle": "2022-03-10T22:23:10.599442Z",
     "shell.execute_reply": "2022-03-10T22:23:10.598811Z"
    },
    "papermill": {
     "duration": 0.009131,
     "end_time": "2022-03-10T22:23:10.600913",
     "exception": false,
     "start_time": "2022-03-10T22:23:10.591782",
     "status": "completed"
    },
    "tags": [
     "parameters"
    ]
   },
   "outputs": [],
   "source": [
    "execution_date='20220131'"
   ]
  },
  {
   "cell_type": "code",
   "execution_count": 3,
   "id": "d0dcc598",
   "metadata": {
    "execution": {
     "iopub.execute_input": "2022-03-10T22:23:10.609381Z",
     "iopub.status.busy": "2022-03-10T22:23:10.609064Z",
     "iopub.status.idle": "2022-03-10T22:23:10.611851Z",
     "shell.execute_reply": "2022-03-10T22:23:10.611162Z"
    },
    "papermill": {
     "duration": 0.008627,
     "end_time": "2022-03-10T22:23:10.613284",
     "exception": false,
     "start_time": "2022-03-10T22:23:10.604657",
     "status": "completed"
    },
    "tags": [
     "injected-parameters"
    ]
   },
   "outputs": [],
   "source": [
    "# Parameters\n",
    "execution_date = \"03-09-2022\"\n"
   ]
  },
  {
   "cell_type": "code",
   "execution_count": 4,
   "id": "empty-referral",
   "metadata": {
    "execution": {
     "iopub.execute_input": "2022-03-10T22:23:10.621989Z",
     "iopub.status.busy": "2022-03-10T22:23:10.621669Z",
     "iopub.status.idle": "2022-03-10T22:23:10.625543Z",
     "shell.execute_reply": "2022-03-10T22:23:10.624871Z"
    },
    "papermill": {
     "duration": 0.009931,
     "end_time": "2022-03-10T22:23:10.627036",
     "exception": false,
     "start_time": "2022-03-10T22:23:10.617105",
     "status": "completed"
    },
    "tags": []
   },
   "outputs": [
    {
     "name": "stdout",
     "output_type": "stream",
     "text": [
      "the current date is -  03-09-2022\n"
     ]
    }
   ],
   "source": [
    "print(\"the current date is - \", execution_date)"
   ]
  },
  {
   "cell_type": "code",
   "execution_count": null,
   "id": "extensive-short",
   "metadata": {
    "papermill": {
     "duration": 0.004187,
     "end_time": "2022-03-10T22:23:10.635381",
     "exception": false,
     "start_time": "2022-03-10T22:23:10.631194",
     "status": "completed"
    },
    "tags": []
   },
   "outputs": [],
   "source": []
  }
 ],
 "metadata": {
  "celltoolbar": "Tags",
  "kernelspec": {
   "display_name": "conda_python3",
   "language": "python",
   "name": "conda_python3"
  },
  "language_info": {
   "codemirror_mode": {
    "name": "ipython",
    "version": 3
   },
   "file_extension": ".py",
   "mimetype": "text/x-python",
   "name": "python",
   "nbconvert_exporter": "python",
   "pygments_lexer": "ipython3",
   "version": "3.7.12"
  },
  "papermill": {
   "default_parameters": {},
   "duration": 1.410298,
   "end_time": "2022-03-10T22:23:10.755242",
   "environment_variables": {},
   "exception": null,
   "input_path": "example_notebook_python.ipynb",
   "output_path": "/opt/ml/processing/output/example_notebook_python-2022-03-10-22-19-02.ipynb",
   "parameters": {
    "execution_date": "03-09-2022"
   },
   "start_time": "2022-03-10T22:23:09.344944",
   "version": "2.3.4"
  }
 },
 "nbformat": 4,
 "nbformat_minor": 5
}